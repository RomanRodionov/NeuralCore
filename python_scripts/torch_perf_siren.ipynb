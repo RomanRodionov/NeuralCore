{
 "cells": [
  {
   "cell_type": "code",
   "execution_count": 10,
   "metadata": {},
   "outputs": [
    {
     "name": "stdout",
     "output_type": "stream",
     "text": [
      "[[ 0.03480644  0.25782976 -0.8950824 ]\n",
      " [-0.18608221 -0.7740489  -0.12990074]\n",
      " [-0.19434917  0.0229037  -0.36781996]\n",
      " ...\n",
      " [ 0.51331323  0.19917841 -0.86242265]\n",
      " [ 0.5535587   0.19436698  0.97343224]\n",
      " [ 0.23317629  0.42509586  0.36259106]]\n",
      "[[ 0.18212673]\n",
      " [ 0.05663035]\n",
      " [-0.33336142]\n",
      " ...\n",
      " [ 0.27319857]\n",
      " [ 0.38656327]\n",
      " [-0.14456633]]\n",
      "Using cuda device\n"
     ]
    }
   ],
   "source": [
    "import torch\n",
    "import numpy as np\n",
    "from torch import nn\n",
    "from torch.utils.data import DataLoader\n",
    "from torchvision import datasets\n",
    "from torchvision.transforms import ToTensor\n",
    "\n",
    "batch_size = 512\n",
    "count = batch_size*100\n",
    "epochs = 100\n",
    "\n",
    "X = np.float32(np.random.uniform(-1, 1, size=(count, 3)))\n",
    "y = np.zeros((count, 1), dtype=np.float32)\n",
    "for i in range(count):\n",
    "  y[i] = (X[i,0]*X[i,0] + X[i,1]*X[i,1] + X[i,2]*X[i,2]) ** 0.5 - 0.75\n",
    "\n",
    "print(X)\n",
    "print(y)\n",
    "\n",
    "X = torch.from_numpy(X)\n",
    "y = torch.from_numpy(y)\n",
    "train_data = torch.utils.data.TensorDataset(X, y)\n",
    "\n",
    "train_dataloader = DataLoader(train_data, batch_size=batch_size)\n",
    "\n",
    "# Get cpu, gpu or mps device for training.\n",
    "device = (\n",
    "    \"cuda\"\n",
    "    if torch.cuda.is_available()\n",
    "    else \"mps\"\n",
    "    if torch.backends.mps.is_available()\n",
    "    else \"cpu\"\n",
    ")\n",
    "print(f\"Using {device} device\")\n",
    "\n",
    "class SinActivation(torch.nn.Module):\n",
    "    def __init__(self):\n",
    "        super(SinActivation, self).__init__()\n",
    "        return\n",
    "    def forward(self, x):\n",
    "        return torch.sin(30.0*x)\n",
    "\n",
    "# Define model\n",
    "class NeuralNetwork(nn.Module):\n",
    "    def __init__(self, layers, size):\n",
    "        super().__init__()\n",
    "        self.flatten = nn.Flatten()\n",
    "        \n",
    "        if (layers == 3):\n",
    "          self.linear_relu_stack = nn.Sequential(\n",
    "              nn.Linear(3, size),\n",
    "              SinActivation(),\n",
    "              nn.Linear(size, size),\n",
    "              SinActivation(),\n",
    "              nn.Linear(size, size),\n",
    "              SinActivation(),\n",
    "              nn.Linear(size, 1)\n",
    "          )\n",
    "        elif (layers == 4):\n",
    "          self.linear_relu_stack = nn.Sequential(\n",
    "              nn.Linear(3, size),\n",
    "              SinActivation(),\n",
    "              nn.Linear(size, size),\n",
    "              SinActivation(),\n",
    "              nn.Linear(size, size),\n",
    "              SinActivation(),\n",
    "              nn.Linear(size, size),\n",
    "              SinActivation(),\n",
    "              nn.Linear(size, 1)\n",
    "          )\n",
    "        elif (layers == 5):\n",
    "          self.linear_relu_stack = nn.Sequential(\n",
    "              nn.Linear(3, size),\n",
    "              SinActivation(),\n",
    "              nn.Linear(size, size),\n",
    "              SinActivation(),\n",
    "              nn.Linear(size, size),\n",
    "              SinActivation(),\n",
    "              nn.Linear(size, size),\n",
    "              SinActivation(),\n",
    "              nn.Linear(size, size),\n",
    "              SinActivation(),\n",
    "              nn.Linear(size, 1)\n",
    "          )\n",
    "        elif (layers == 6):\n",
    "          self.linear_relu_stack = nn.Sequential(\n",
    "              nn.Linear(3, size),\n",
    "              SinActivation(),\n",
    "              nn.Linear(size, size),\n",
    "              SinActivation(),\n",
    "              nn.Linear(size, size),\n",
    "              SinActivation(),\n",
    "              nn.Linear(size, size),\n",
    "              SinActivation(),\n",
    "              nn.Linear(size, size),\n",
    "              SinActivation(),\n",
    "              nn.Linear(size, size),\n",
    "              SinActivation(),\n",
    "              nn.Linear(size, 1)\n",
    "          )\n",
    "\n",
    "    def forward(self, x):\n",
    "        x = self.flatten(x)\n",
    "        logits = self.linear_relu_stack(x)\n",
    "        return logits\n",
    "\n",
    "def train(dataloader, model, loss_fn, optimizer):\n",
    "    size = len(dataloader.dataset)\n",
    "    model.train()\n",
    "    for batch, (X, y) in enumerate(dataloader):\n",
    "        X, y = X.to(device), y.to(device)\n",
    "\n",
    "        # Compute prediction error\n",
    "        pred = model(X)\n",
    "        loss = loss_fn(pred, y)\n",
    "\n",
    "        # Backpropagation\n",
    "        loss.backward()\n",
    "        optimizer.step()\n",
    "        optimizer.zero_grad()\n",
    "\n",
    "        #if batch % 100 == 0:\n",
    "        #    loss, current = loss.item(), (batch + 1) * len(X)\n",
    "        #    print(f\"loss: {loss:>7f}  [{current:>5d}/{size:>5d}]\")\n",
    "\n",
    "def test(dataloader, model, loss_fn):\n",
    "    size = len(dataloader.dataset)\n",
    "    num_batches = len(dataloader)\n",
    "    model.eval()\n",
    "    test_loss, correct = 0, 0\n",
    "    with torch.no_grad():\n",
    "        for X, y in dataloader:\n",
    "            X, y = X.to(device), y.to(device)\n",
    "            pred = model(X)\n",
    "            test_loss += loss_fn(pred, y).item()\n",
    "            correct += (pred.argmax(1) == y).type(torch.float).sum().item()\n",
    "    test_loss /= num_batches\n",
    "    correct /= size\n",
    "    print(f\"Test Error: \\n Accuracy: {(100*correct):>0.1f}%, Avg loss: {test_loss:>8f} \\n\")"
   ]
  },
  {
   "cell_type": "code",
   "execution_count": 13,
   "metadata": {},
   "outputs": [],
   "source": [
    "model = NeuralNetwork(5, 256).to(device)\n",
    "loss_fn = nn.CrossEntropyLoss()\n",
    "optimizer = torch.optim.Adam(model.parameters(), lr=1e-4)"
   ]
  },
  {
   "cell_type": "code",
   "execution_count": 14,
   "metadata": {},
   "outputs": [
    {
     "name": "stdout",
     "output_type": "stream",
     "text": [
      "CPU times: user 36 s, sys: 85.2 ms, total: 36.1 s\n",
      "Wall time: 36 s\n"
     ]
    }
   ],
   "source": [
    "%%time\n",
    "epochs = 100\n",
    "for t in range(epochs):\n",
    "    train(train_dataloader, model, loss_fn, optimizer)"
   ]
  },
  {
   "cell_type": "code",
   "execution_count": 15,
   "metadata": {},
   "outputs": [
    {
     "data": {
      "text/plain": [
       "NeuralNetwork(\n",
       "  (flatten): Flatten(start_dim=1, end_dim=-1)\n",
       "  (linear_relu_stack): Sequential(\n",
       "    (0): Linear(in_features=3, out_features=256, bias=True)\n",
       "    (1): SinActivation()\n",
       "    (2): Linear(in_features=256, out_features=256, bias=True)\n",
       "    (3): SinActivation()\n",
       "    (4): Linear(in_features=256, out_features=256, bias=True)\n",
       "    (5): SinActivation()\n",
       "    (6): Linear(in_features=256, out_features=256, bias=True)\n",
       "    (7): SinActivation()\n",
       "    (8): Linear(in_features=256, out_features=256, bias=True)\n",
       "    (9): SinActivation()\n",
       "    (10): Linear(in_features=256, out_features=1, bias=True)\n",
       "  )\n",
       ")"
      ]
     },
     "execution_count": 15,
     "metadata": {},
     "output_type": "execute_result"
    }
   ],
   "source": [
    "size = len(train_dataloader.dataset)\n",
    "num_batches = len(train_dataloader)\n",
    "model.eval()"
   ]
  },
  {
   "cell_type": "code",
   "execution_count": 16,
   "metadata": {},
   "outputs": [
    {
     "name": "stdout",
     "output_type": "stream",
     "text": [
      "CPU times: user 323 ms, sys: 12.1 ms, total: 335 ms\n",
      "Wall time: 333 ms\n"
     ]
    }
   ],
   "source": [
    "%%time\n",
    "with torch.no_grad():\n",
    "  i = 0\n",
    "  for X, y in train_dataloader:\n",
    "    X, y = X.to(device), y.to(device)\n",
    "    pred = model(X)"
   ]
  }
 ],
 "metadata": {
  "kernelspec": {
   "display_name": "base",
   "language": "python",
   "name": "python3"
  },
  "language_info": {
   "codemirror_mode": {
    "name": "ipython",
    "version": 3
   },
   "file_extension": ".py",
   "mimetype": "text/x-python",
   "name": "python",
   "nbconvert_exporter": "python",
   "pygments_lexer": "ipython3",
   "version": "3.9.13"
  }
 },
 "nbformat": 4,
 "nbformat_minor": 2
}
